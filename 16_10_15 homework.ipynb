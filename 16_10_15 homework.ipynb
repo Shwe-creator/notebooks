{
 "cells": [
  {
   "cell_type": "code",
   "execution_count": 2,
   "metadata": {
    "collapsed": false
   },
   "outputs": [
    {
     "name": "stdout",
     "output_type": "stream",
     "text": [
      "Populating the interactive namespace from numpy and matplotlib\n"
     ]
    }
   ],
   "source": [
    "%pylab inline"
   ]
  },
  {
   "cell_type": "code",
   "execution_count": 17,
   "metadata": {
    "collapsed": false
   },
   "outputs": [
    {
     "data": {
      "text/plain": [
       "(0, 1500)"
      ]
     },
     "execution_count": 17,
     "metadata": {},
     "output_type": "execute_result"
    },
    {
     "data": {
      "image/png": "[encoded data removed]",
      "text/plain": [
       "<matplotlib.figure.Figure at 0x6cc7c50>"
      ]
     },
     "metadata": {},
     "output_type": "display_data"
    },
    {
     "data": {
      "image/png": "[encoded data removed]",
      "text/plain": [
       "<matplotlib.figure.Figure at 0x827df60>"
      ]
     },
     "metadata": {},
     "output_type": "display_data"
    }
   ],
   "source": [
    "fs = 44100.0\n",
    "f = np.array([250.0, 500.0, 750.0, 1000.0])\n",
    "a = 1.0 / np.array([1.0, 2.0, 3.0, 4.0])\n",
    "t = np.arange(0.0, 1.0, 1.0 / fs)\n",
    "\n",
    "xarr = np.dot(a * np.eye(len(f)), np.sin(2.0 * np.pi * t[np.newaxis] * f[np.newaxis].T))\n",
    "x = np.sum(xarr, axis=0)\n",
    "\n",
    "delay = -0.002\n",
    "tdel = np.arange(delay, 1.0 + delay, 1.0 / fs)\n",
    "xarrdel = np.dot(a * np.eye(len(f)), np.sin(2.0 * np.pi * tdel[np.newaxis] * f[np.newaxis].T))\n",
    "xdel = np.sum(xarrdel, axis=0)\n",
    "\n",
    "xsum = x + xdel\n",
    "plt.figure()\n",
    "plt.plot(np.absolute(np.fft.rfft(x)))\n",
    "plt.xlim([0, 1500])\n",
    "plt.figure()\n",
    "plt.plot(np.absolute(np.fft.rfft(xsum)))\n",
    "plt.xlim([0, 1500])"
   ]
  }
 ],
 "metadata": {
  "kernelspec": {
   "display_name": "Python [Root]",
   "language": "python",
   "name": "Python [Root]"
  },
  "language_info": {
   "codemirror_mode": {
    "name": "ipython",
    "version": 2
   },
   "file_extension": ".py",
   "mimetype": "text/x-python",
   "name": "python",
   "nbconvert_exporter": "python",
   "pygments_lexer": "ipython2",
   "version": "2.7.12"
  }
 },
 "nbformat": 4,
 "nbformat_minor": 0
}
