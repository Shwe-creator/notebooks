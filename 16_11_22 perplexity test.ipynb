{
 "cells": [
  {
   "cell_type": "code",
   "execution_count": 1,
   "metadata": {
    "collapsed": false
   },
   "outputs": [
    {
     "name": "stdout",
     "output_type": "stream",
     "text": [
      "Populating the interactive namespace from numpy and matplotlib\n"
     ]
    }
   ],
   "source": [
    "%pylab inline"
   ]
  },
  {
   "cell_type": "markdown",
   "metadata": {},
   "source": [
    "# Perplexity experiment\n",
    "\n",
    "Trying to get my head around perplexity as a measure. This notebook does the following:\n",
    "\n",
    "* Generate data from a ground truth unigram distribution (p(0)=0.9, p(1)=0.09, p(2)=0.01)\n",
    "* Estimate the ground truth n-gram distributions from the data\n",
    "* Interpret the n-gram distribution as a posterior distribution conditioned on n-1 (for 3-gram, P(x[n] | x[n-1], x[n-2]))\n",
    "* Measure the perplexity of the sequence as described by each posterior"
   ]
  },
  {
   "cell_type": "code",
   "execution_count": 78,
   "metadata": {
    "collapsed": false
   },
   "outputs": [
    {
     "name": "stdout",
     "output_type": "stream",
     "text": [
      "[0 0 0 0 0 0 0 0 0 0 0 0 0 0 0 0 0 0 0 0 0 0 0 0 0 0 0 0 0 0 0 0 0 0 0 1 0\n",
      " 0 0 0 0 0 0 0 0 1 0 0 0 0 0 0 0 0 0 0 0 0 0 0 0 1 0 0 0 0 1 0 0 0 0 0 0 0\n",
      " 1 1 0 0 0 0 0 0 0 0 0 2 0 0 0 0 1 0 0 0 0 1 0 0 0 0]\n"
     ]
    }
   ],
   "source": [
    "# Create sparse data\n",
    "true_unigram = [0.9, 0.09, 0.01]\n",
    "seq_len = 10000\n",
    "sequence = np.random.choice(len(true_unigram), seq_len, p=true_unigram)\n",
    "print sequence[:100]"
   ]
  },
  {
   "cell_type": "code",
   "execution_count": 79,
   "metadata": {
    "collapsed": false
   },
   "outputs": [
    {
     "name": "stdout",
     "output_type": "stream",
     "text": [
      "1-gram distribution\n",
      "(0,): 0.8972\n",
      "(1,): 0.0922\n",
      "(2,): 0.0106\n",
      "2-gram distribution\n",
      "(0, 0): 0.804680468047\n",
      "(1, 0): 0.0831083108311\n",
      "(0, 1): 0.0828082808281\n",
      "(0, 2): 0.00970097009701\n",
      "(2, 0): 0.00940094009401\n",
      "(1, 1): 0.00820082008201\n",
      "(2, 1): 0.001200120012\n",
      "(1, 2): 0.000900090009001\n",
      "3-gram distribution\n",
      "(0, 0, 0): 0.72274454891\n",
      "(0, 1, 0): 0.0746149229846\n",
      "(0, 0, 1): 0.0739147829566\n",
      "(1, 0, 0): 0.0736147229446\n",
      "(0, 2, 0): 0.00850170034007\n",
      "(2, 0, 0): 0.00830166033207\n",
      "(1, 0, 1): 0.00820164032807\n",
      "(0, 0, 2): 0.00800160032006\n",
      "(0, 1, 1): 0.00740148029606\n",
      "(1, 1, 0): 0.00730146029206\n",
      "(1, 0, 2): 0.00130026005201\n",
      "(2, 1, 0): 0.00120024004801\n",
      "(0, 2, 1): 0.00120024004801\n",
      "(1, 2, 0): 0.000900180036007\n",
      "(0, 1, 2): 0.000800160032006\n",
      "(1, 1, 1): 0.000800160032006\n",
      "(2, 0, 1): 0.000700140028006\n",
      "(2, 0, 2): 0.000400080016003\n",
      "(1, 1, 2): 0.000100020004001\n"
     ]
    }
   ],
   "source": [
    "# Calculate n-gram distrbutions from sample of ground truth unigram distribution\n",
    "max_ngram = 6\n",
    "n_to_distribution = {}\n",
    "for n in xrange(1, max_ngram + 1):\n",
    "    ngrams = []\n",
    "    for i in xrange(seq_len):\n",
    "        ngram = sequence[i:i + n]\n",
    "        if len(ngram) != n:\n",
    "            break\n",
    "        ngrams.append(ngram)\n",
    "    ngram_to_count = {}\n",
    "    for ngram in ngrams:\n",
    "        ngram = tuple(ngram)\n",
    "        if ngram not in ngram_to_count:\n",
    "            ngram_to_count[ngram] = 0\n",
    "        ngram_to_count[ngram] += 1\n",
    "    ngram_distribution = {i:float(c) / len(ngrams) for i, c in ngram_to_count.items()}\n",
    "    n_to_distribution[n] = ngram_distribution\n",
    "\n",
    "for n in xrange(1, min(4, max_ngram + 1)):\n",
    "    print '{}-gram distribution'.format(n)\n",
    "    for ngram, proportion in sorted(n_to_distribution[n].items(), key=lambda x: -x[1]):\n",
    "        print '{}: {}'.format(ngram, n_to_distribution[n][ngram])"
   ]
  },
  {
   "cell_type": "code",
   "execution_count": 80,
   "metadata": {
    "collapsed": false
   },
   "outputs": [],
   "source": [
    "# Calculate perplexity of n-gram distribution against the sample\n",
    "n_to_perplexity = {}\n",
    "for n in xrange(1, max_ngram + 1):\n",
    "    distribution = n_to_distribution[n]\n",
    "    ncontext = n - 1\n",
    "    log_prob_cum = 0.0\n",
    "    for i in xrange(seq_len):\n",
    "        ngram = tuple(sequence[i:i + n])\n",
    "        if len(ngram) != n:\n",
    "            break\n",
    "        posterior = distribution[ngram]\n",
    "        log_prob_cum += np.log(posterior)\n",
    "    negative_log_prob = -log_prob_cum / (len(sequence) - (n - 1))\n",
    "    perplexity = np.exp(negative_log_prob)\n",
    "    n_to_perplexity[n] = perplexity"
   ]
  },
  {
   "cell_type": "code",
   "execution_count": 81,
   "metadata": {
    "collapsed": false
   },
   "outputs": [
    {
     "data": {
      "text/plain": [
       "<matplotlib.text.Text at 0x90f76a0>"
      ]
     },
     "execution_count": 81,
     "metadata": {},
     "output_type": "execute_result"
    },
    {
     "data": {
      "image/png": "[encoded data removed]",
      "text/plain": [
       "<matplotlib.figure.Figure at 0x898b7b8>"
      ]
     },
     "metadata": {},
     "output_type": "display_data"
    }
   ],
   "source": [
    "# Plot perplexity values\n",
    "plt.figure(figsize=(10, 5))\n",
    "ns = range(1, max_ngram + 1)\n",
    "plt.plot(ns, [n_to_perplexity[n] for n in ns])\n",
    "plt.xlabel('N-gram size')\n",
    "plt.ylabel('Perplexity')"
   ]
  }
 ],
 "metadata": {
  "anaconda-cloud": {},
  "kernelspec": {
   "display_name": "Python [Root]",
   "language": "python",
   "name": "Python [Root]"
  },
  "language_info": {
   "codemirror_mode": {
    "name": "ipython",
    "version": 2
   },
   "file_extension": ".py",
   "mimetype": "text/x-python",
   "name": "python",
   "nbconvert_exporter": "python",
   "pygments_lexer": "ipython2",
   "version": "2.7.12"
  }
 },
 "nbformat": 4,
 "nbformat_minor": 0
}
