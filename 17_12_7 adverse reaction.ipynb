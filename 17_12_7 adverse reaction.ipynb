{
 "cells": [
  {
   "cell_type": "code",
   "execution_count": 2,
   "metadata": {},
   "outputs": [
    {
     "name": "stdout",
     "output_type": "stream",
     "text": [
      "Extracting MNIST_data/train-images-idx3-ubyte.gz\n",
      "Extracting MNIST_data/train-labels-idx1-ubyte.gz\n",
      "Extracting MNIST_data/t10k-images-idx3-ubyte.gz\n",
      "Extracting MNIST_data/t10k-labels-idx1-ubyte.gz\n",
      "(55000, 784)\n",
      "(5000, 784)\n"
     ]
    }
   ],
   "source": [
    "from tensorflow.examples.tutorials.mnist import input_data\n",
    "import numpy as np\n",
    "\n",
    "mnist = input_data.read_data_sets('MNIST_data/', one_hot=True)\n",
    "mnist_train_x = mnist.train.images\n",
    "mnist_train_y = mnist.train.labels\n",
    "mnist_train_y = np.argmax(mnist_train_y, axis=1)\n",
    "\n",
    "mnist_valid_x = mnist.validation.images\n",
    "mnist_valid_y = mnist.validation.labels\n",
    "mnist_valid_y = np.argmax(mnist_valid_y, axis=1)\n",
    "\n",
    "print mnist_train_x.shape\n",
    "print mnist_valid_x.shape"
   ]
  },
  {
   "cell_type": "code",
   "execution_count": 3,
   "metadata": {},
   "outputs": [
    {
     "data": {
      "image/png": "[encoded data removed]",
      "text/plain": [
       "<IPython.core.display.Image object>"
      ]
     },
     "metadata": {},
     "output_type": "display_data"
    },
    {
     "name": "stdout",
     "output_type": "stream",
     "text": [
      "6\n"
     ]
    }
   ],
   "source": [
    "from IPython.display import display, Image\n",
    "import PIL.Image\n",
    "from cStringIO import StringIO\n",
    "\n",
    "import tensorflow as tf\n",
    "import numpy as np\n",
    "\n",
    "def display_digit(x):\n",
    "    x = np.reshape(x, [28, 28])\n",
    "    x = np.copy(x)\n",
    "    x *= 256\n",
    "    x = np.clip(x, 0., 255.)\n",
    "    x = x.astype(np.uint8)\n",
    "    \n",
    "    f = StringIO()\n",
    "    PIL.Image.fromarray(x).save(f, 'png')\n",
    "    display(Image(data=f.getvalue()))\n",
    "\n",
    "i = 3\n",
    "display_digit(mnist_train_x[i])\n",
    "print mnist_train_y[i]"
   ]
  },
  {
   "cell_type": "code",
   "execution_count": 12,
   "metadata": {},
   "outputs": [],
   "source": [
    "lr = 0.01\n",
    "eps = 0.01\n",
    "\n",
    "import tensorflow as tf\n",
    "\n",
    "tf.reset_default_graph()\n",
    "\n",
    "x = tf.placeholder(tf.float32, [None, 784])\n",
    "y = tf.placeholder(tf.int32, [None])\n",
    "adv = tf.placeholder(tf.bool, [])\n",
    "\n",
    "with tf.variable_scope('adversary'):\n",
    "    yoh = tf.one_hot(y, 10)\n",
    "    xy = tf.concat([x, yoh], axis=1)\n",
    "    \n",
    "    with tf.variable_scope('h0'):\n",
    "        xadv = tf.layers.dense(xy, 392)\n",
    "    \n",
    "    with tf.variable_scope('output'):\n",
    "        xadv = tf.layers.dense(xadv, 784)\n",
    "    \n",
    "    xadv = eps * xadv\n",
    "\n",
    "with tf.variable_scope('classifier'):\n",
    "    xh = tf.cond(adv, lambda: x, lambda: x + xadv)\n",
    "    \n",
    "    with tf.variable_scope('h0'):\n",
    "        xh = tf.layers.dense(x, 392)\n",
    "        \n",
    "    with tf.variable_scope('softmax'):\n",
    "        xh = tf.layers.dense(xh, 10)\n",
    "\n",
    "nll = tf.reduce_mean(tf.nn.sparse_softmax_cross_entropy_with_logits(labels=y, logits=xh))\n",
    "\n",
    "preds = tf.argmax(xh, axis=1, output_type=tf.int32)\n",
    "correct = tf.equal(preds, y)\n",
    "accuracy = tf.reduce_mean(tf.cast(correct, tf.float32))\n",
    "\n",
    "cls_opt = tf.train.GradientDescentOptimizer(lr).minimize(nll, global_step=tf.train.get_or_create_global_step())\n",
    "adv_opt = tf.train.GradientDescentOptimizer(lr).minimize(-nll)"
   ]
  },
  {
   "cell_type": "code",
   "execution_count": 19,
   "metadata": {},
   "outputs": [
    {
     "name": "stdout",
     "output_type": "stream",
     "text": [
      "Epoch 0\n",
      "Validation accuracy: 0.097800001502\n",
      "Epoch 1\n",
      "Validation accuracy: 0.894400000572\n",
      "Epoch 2\n",
      "Validation accuracy: 0.907199978828\n",
      "Epoch 3\n",
      "Validation accuracy: 0.91219997406\n",
      "Epoch 4\n",
      "Validation accuracy: 0.916000008583\n",
      "Epoch 5\n",
      "Validation accuracy: 0.91939997673\n",
      "Epoch 6\n",
      "Validation accuracy: 0.920799970627\n",
      "Epoch 7\n",
      "Validation accuracy: 0.921599984169\n"
     ]
    }
   ],
   "source": [
    "nepochs = 8\n",
    "batch_size = 50\n",
    "_adv = False\n",
    "\n",
    "import random as random\n",
    "\n",
    "sess = tf.InteractiveSession()\n",
    "sess.run(tf.global_variables_initializer())\n",
    "\n",
    "for i in xrange(nepochs):\n",
    "    print 'Epoch {}'.format(i)\n",
    "    \n",
    "    print 'Validation accuracy: {}'.format(sess.run(accuracy, {x: mnist_valid_x, y: mnist_valid_y, adv: False}))\n",
    "    \n",
    "    _is = set(range(mnist_train_x.shape[0]))\n",
    "    while len(_is) > batch_size:\n",
    "        _i = random.sample(_is, batch_size)\n",
    "        _is -= set(_i)\n",
    "        _x = np.take(mnist_train_x, _i, axis=0)\n",
    "        _y = np.take(mnist_train_y, _i, axis=0)\n",
    "        \n",
    "        if _adv:\n",
    "            _ = sess.run(adv_opt, {x: _x, y: _y, adv: _adv})\n",
    "        _ = sess.run(cls_opt, {x: _x, y: _y, adv: _adv})"
   ]
  },
  {
   "cell_type": "code",
   "execution_count": 20,
   "metadata": {},
   "outputs": [
    {
     "data": {
      "text/plain": [
       "'./reg-8'"
      ]
     },
     "execution_count": 20,
     "metadata": {},
     "output_type": "execute_result"
    }
   ],
   "source": [
    "saver = tf.train.Saver()\n",
    "saver.save(sess, './reg', global_step=8)"
   ]
  },
  {
   "cell_type": "code",
   "execution_count": 81,
   "metadata": {},
   "outputs": [],
   "source": [
    "eps = 0.25\n",
    "\n",
    "tf.reset_default_graph()\n",
    "\n",
    "x = tf.placeholder(tf.float32, [784])\n",
    "y = tf.placeholder(tf.int32, [])\n",
    "yadv = tf.placeholder(tf.int32, [])\n",
    "\n",
    "xe = tf.expand_dims(x, axis=0)\n",
    "with tf.variable_scope('classifier'):\n",
    "    xh = xe\n",
    "    \n",
    "    with tf.variable_scope('h0'):\n",
    "        xh = tf.layers.dense(xh, 392)\n",
    "        \n",
    "    with tf.variable_scope('softmax'):\n",
    "        xh = tf.layers.dense(xh, 10)\n",
    "    \n",
    "    scores = xh[0]\n",
    "\n",
    "with tf.variable_scope('adv'):\n",
    "    xadv = tf.get_variable('adv', [784], tf.float32, initializer=tf.random_normal_initializer)\n",
    "xpert = xe + eps * tf.expand_dims(xadv, axis=0)\n",
    "    \n",
    "with tf.variable_scope('classifier', reuse=True):\n",
    "    xh = xpert\n",
    "    \n",
    "    with tf.variable_scope('h0'):\n",
    "        xh = tf.layers.dense(xh, 392)\n",
    "        \n",
    "    with tf.variable_scope('softmax'):\n",
    "        xh = tf.layers.dense(xh, 10)\n",
    "    \n",
    "    scores_adv = xh[0]\n",
    "cls_vars = tf.get_collection(tf.GraphKeys.GLOBAL_VARIABLES, scope='classifier')\n",
    "    \n",
    "nll_adv = tf.reduce_mean(tf.nn.sparse_softmax_cross_entropy_with_logits(labels=yadv, logits=scores_adv))\n",
    "\n",
    "preds = tf.nn.softmax(scores)\n",
    "preds_adv = tf.nn.softmax(scores_adv)\n",
    "\n",
    "adv_opt = tf.train.GradientDescentOptimizer(lr).minimize(nll_adv, var_list=[xadv])\n",
    "\n",
    "saver = tf.train.Saver(cls_vars)"
   ]
  },
  {
   "cell_type": "code",
   "execution_count": 84,
   "metadata": {},
   "outputs": [
    {
     "name": "stdout",
     "output_type": "stream",
     "text": [
      "INFO:tensorflow:Restoring parameters from reg-8\n"
     ]
    },
    {
     "data": {
      "image/png": "[encoded data removed]",
      "text/plain": [
       "<IPython.core.display.Image object>"
      ]
     },
     "metadata": {},
     "output_type": "display_data"
    },
    {
     "name": "stdout",
     "output_type": "stream",
     "text": [
      "[ 0.00000806  0.0000909   0.00024036  0.99723971  0.00000011  0.00028115\n",
      "  0.00000012  0.00000687  0.0016862   0.00044652]\n"
     ]
    },
    {
     "data": {
      "image/png": "[encoded data removed]",
      "text/plain": [
       "<IPython.core.display.Image object>"
      ]
     },
     "metadata": {},
     "output_type": "display_data"
    },
    {
     "name": "stdout",
     "output_type": "stream",
     "text": [
      "[ 0.00000365  0.00002292  0.00030532  0.99676251  0.00000018  0.00031764\n",
      "  0.00000009  0.00000453  0.00238169  0.00020133]\n"
     ]
    },
    {
     "data": {
      "image/png": "[encoded data removed]",
      "text/plain": [
       "<IPython.core.display.Image object>"
      ]
     },
     "metadata": {},
     "output_type": "display_data"
    },
    {
     "name": "stdout",
     "output_type": "stream",
     "text": [
      "[array([ 0.00648754,  0.        ,  0.20214675,  0.00001952,  0.00000001,\n",
      "        0.79105622,  0.00000244,  0.00000018,  0.0002873 ,  0.        ], dtype=float32)]\n"
     ]
    },
    {
     "data": {
      "image/png": "[encoded data removed]",
      "text/plain": [
       "<IPython.core.display.Image object>"
      ]
     },
     "metadata": {},
     "output_type": "display_data"
    },
    {
     "name": "stdout",
     "output_type": "stream",
     "text": [
      "[ 0.00000806  0.0000909   0.00024036  0.99723971  0.00000011  0.00028115\n",
      "  0.00000012  0.00000687  0.0016862   0.00044652]\n"
     ]
    },
    {
     "data": {
      "image/png": "[encoded data removed]",
      "text/plain": [
       "<IPython.core.display.Image object>"
      ]
     },
     "metadata": {},
     "output_type": "display_data"
    },
    {
     "name": "stdout",
     "output_type": "stream",
     "text": [
      "[ 0.0000673   0.00023437  0.00096288  0.09448223  0.00001231  0.00636823\n",
      "  0.00000707  0.00000759  0.89366025  0.00419784]\n"
     ]
    }
   ],
   "source": [
    "i = 10\n",
    "nadv = 1000\n",
    "\n",
    "#ckpt_fp = 'adv-135'\n",
    "ckpt_fp = 'reg-8'\n",
    "\n",
    "_x = mnist_valid_x[i]\n",
    "_y = mnist_valid_y[i]\n",
    "_yadv = 8\n",
    "\n",
    "with tf.Session() as sess:\n",
    "    sess.run(tf.global_variables_initializer())\n",
    "    saver.restore(sess, ckpt_fp)\n",
    "    \n",
    "    np.set_printoptions(suppress=True)\n",
    "    \n",
    "    _xpert, _preds, _preds_adv = sess.run([xpert, preds, preds_adv], {x: _x})\n",
    "    display_digit(_x)\n",
    "    print _preds\n",
    "    \n",
    "    display_digit(_xpert)\n",
    "    print _preds_adv\n",
    "    \n",
    "    _preds = sess.run([preds], {x: 1. - _x})\n",
    "    display_digit(1. - _x)\n",
    "    print _preds\n",
    "    \n",
    "    for i in xrange(nadv):\n",
    "        sess.run(adv_opt, {x: _x, yadv: _yadv})\n",
    "        \n",
    "    _xpert, _preds, _preds_adv = sess.run([xpert, preds, preds_adv], {x: _x})\n",
    "    display_digit(_x)\n",
    "    print _preds\n",
    "    \n",
    "    display_digit(_xpert)\n",
    "    print _preds_adv"
   ]
  },
  {
   "cell_type": "markdown",
   "metadata": {},
   "source": [
    "* Regular @ (eps=0.25, nadv=1000): [99.7%, 0.1%] -> [11.3%, 86.4%]\n",
    "* Adv @ (eps=0.25, nadv=1000): [90.4%, 0.2%] -> [64.3%, 15.1%]"
   ]
  }
 ],
 "metadata": {
  "kernelspec": {
   "display_name": "Python 2",
   "language": "python",
   "name": "python2"
  },
  "language_info": {
   "codemirror_mode": {
    "name": "ipython",
    "version": 2
   },
   "file_extension": ".py",
   "mimetype": "text/x-python",
   "name": "python",
   "nbconvert_exporter": "python",
   "pygments_lexer": "ipython2",
   "version": "2.7.12"
  }
 },
 "nbformat": 4,
 "nbformat_minor": 2
}
