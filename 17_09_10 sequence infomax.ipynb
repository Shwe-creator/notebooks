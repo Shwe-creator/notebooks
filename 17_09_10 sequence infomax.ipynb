{
 "cells": [
  {
   "cell_type": "code",
   "execution_count": 1,
   "metadata": {},
   "outputs": [
    {
     "name": "stdout",
     "output_type": "stream",
     "text": [
      "(5590840,)\n",
      "(21840, 512)\n"
     ]
    }
   ],
   "source": [
    "import numpy as np\n",
    "import tensorflow as tf\n",
    "\n",
    "audio_fp = '/home/ubuntu/audio/106988__plingativator__fire1.wav'\n",
    "wlen = 512\n",
    "stride = 256\n",
    "fs = 44100\n",
    "\n",
    "tf.reset_default_graph()\n",
    "\n",
    "x = tf.contrib.ffmpeg.decode_audio(\n",
    "    tf.read_file(audio_fp),\n",
    "    file_format='wav',\n",
    "    samples_per_second=fs,\n",
    "    channel_count=1)\n",
    "x = tf.reshape(x, [1, -1, 1])\n",
    "\n",
    "W = tf.get_variable('W', [wlen, 1, wlen], tf.float32)\n",
    "b = tf.get_variable('b', [wlen], tf.float32)\n",
    "\n",
    "X = tf.nn.conv1d(x, W, stride, 'SAME')\n",
    "\n",
    "sess = tf.InteractiveSession()\n",
    "\n",
    "sess.run(tf.global_variables_initializer())\n",
    "_x, _X = sess.run([x[0, :, 0], X[0]])\n",
    "print _x.shape\n",
    "print _X.shape"
   ]
  },
  {
   "cell_type": "code",
   "execution_count": 10,
   "metadata": {},
   "outputs": [],
   "source": [
    "from IPython.display import Audio, display\n",
    "\n",
    "_x_int16 = np.copy(_x)\n",
    "_x_int16 *= 32767.\n",
    "_x_int16 = np.clip(_x_int16, -32767., 32767.)\n",
    "_x_int16 = _x_int16.astype(np.int16)\n",
    "\n",
    "#Audio(_x_int16, rate=fs)"
   ]
  }
 ],
 "metadata": {
  "kernelspec": {
   "display_name": "Python 2",
   "language": "python",
   "name": "python2"
  },
  "language_info": {
   "codemirror_mode": {
    "name": "ipython",
    "version": 2
   },
   "file_extension": ".py",
   "mimetype": "text/x-python",
   "name": "python",
   "nbconvert_exporter": "python",
   "pygments_lexer": "ipython2",
   "version": "2.7.12"
  }
 },
 "nbformat": 4,
 "nbformat_minor": 2
}
