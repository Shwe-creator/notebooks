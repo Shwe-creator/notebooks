{
 "cells": [
  {
   "cell_type": "code",
   "execution_count": 2,
   "metadata": {
    "collapsed": true
   },
   "outputs": [],
   "source": [
    "import tensorflow as tf\n",
    "import numpy as np"
   ]
  },
  {
   "cell_type": "code",
   "execution_count": 20,
   "metadata": {
    "collapsed": false
   },
   "outputs": [
    {
     "name": "stdout",
     "output_type": "stream",
     "text": [
      "[[[ 0.47135267  0.29029804  0.89198583  0.46804243]\n",
      "  [ 0.6934647   0.23503804  0.70438915  0.7256664 ]\n",
      "  [ 0.00224746  0.77212453  0.22418016  0.89110726]]\n",
      "\n",
      " [[ 0.25514391  0.47887799  0.01040162  0.88948047]\n",
      "  [ 0.89030439  0.81758666  0.41806781  0.71011662]\n",
      "  [ 0.23843014  0.83375996  0.16533574  0.42635858]]]\n",
      "[[1 2 0]\n",
      " [3 1 3]]\n",
      "[[ 1.  1.  0.]\n",
      " [ 1.  1.  1.]]\n",
      "[[[ 0.2296733   0.19163707  0.34977534  0.22891431]\n",
      "  [ 0.27203569  0.17200209  0.27502385  0.2809383 ]\n",
      "  [ 0.14619151  0.31570065  0.18251824  0.35558963]]\n",
      "\n",
      " [[ 0.2032762   0.25424534  0.15914619  0.38333225]\n",
      "  [ 0.29510862  0.27441069  0.1840315   0.24644917]\n",
      "  [ 0.20202473  0.36639792  0.18778463  0.24379274]]]\n"
     ]
    }
   ],
   "source": [
    "nbatch = 2\n",
    "nunroll = 3\n",
    "nsyms = 4\n",
    "logits_ = np.random.rand(nbatch, nunroll, nsyms).astype(np.float32)\n",
    "logits_exp_ = np.exp(logits_)\n",
    "softmax_ = np.divide(logits_exp_, np.sum(logits_exp_, axis=2)[:, :, np.newaxis])\n",
    "weights_ = np.ones((nbatch, nunroll), dtype=np.float32)\n",
    "weights_[0][2:] = 0.0\n",
    "targets_ = np.random.randint(1, nsyms, size=(nbatch, nunroll), dtype=np.int32)\n",
    "targets_[0][2:] = 0\n",
    "print logits_\n",
    "print targets_\n",
    "print weights_\n",
    "print softmax_"
   ]
  },
  {
   "cell_type": "code",
   "execution_count": 33,
   "metadata": {
    "collapsed": false
   },
   "outputs": [
    {
     "name": "stdout",
     "output_type": "stream",
     "text": [
      "[ 1.65215196  1.29089746]\n",
      "[ 0.95885317  1.29312943  1.41143684]\n",
      "2.94304941397\n",
      "3.66341943943\n",
      "1.47152470699\n",
      "1.22113981314\n",
      "1.34633226006\n"
     ]
    }
   ],
   "source": [
    "seq1_neg_log_prob = -1.0 * np.log([0.19163707, 0.27502385])\n",
    "seq2_neg_log_prob = -1.0 * np.log([0.38333225, 0.27441069, 0.24379274])\n",
    "print seq1_neg_log_prob\n",
    "print seq2_neg_log_prob\n",
    "seq1_sum_log_prob = np.sum(seq1_neg_log_prob)\n",
    "seq2_sum_log_prob = np.sum(seq2_neg_log_prob)\n",
    "print seq1_sum_log_prob\n",
    "print seq2_sum_log_prob\n",
    "seq1_avg_neg_log_prob = (1.0 / 2) * seq1_sum_log_prob\n",
    "seq2_avg_neg_log_prob = (1.0 / 3) * seq2_sum_log_prob\n",
    "print seq1_avg_neg_log_prob\n",
    "print seq2_avg_neg_log_prob\n",
    "loss = np.mean([seq1_avg_neg_log_prob, seq2_avg_neg_log_prob])\n",
    "print loss"
   ]
  },
  {
   "cell_type": "code",
   "execution_count": 31,
   "metadata": {
    "collapsed": false
   },
   "outputs": [
    {
     "name": "stdout",
     "output_type": "stream",
     "text": [
      "[[[ 0.22967331  0.19163705  0.34977534  0.22891429]\n",
      "  [ 0.27203575  0.17200212  0.27502388  0.28093833]\n",
      "  [ 0.14619149  0.31570065  0.18251824  0.3555896 ]]\n",
      "\n",
      " [[ 0.20327619  0.25424534  0.1591462   0.38333228]\n",
      "  [ 0.29510862  0.27441067  0.18403149  0.24644916]\n",
      "  [ 0.20202473  0.36639789  0.18778461  0.24379276]]]\n",
      "[ 1.47152472  1.22113979]\n",
      "[ 1.65215194  1.29089737  0.          0.95885313  1.29312944  1.4114368 ]\n"
     ]
    }
   ],
   "source": [
    "splitsqueeze = lambda x: [tf.squeeze(r, [1]) for r in tf.split(1, nunroll, x)]\n",
    "splitsqueezeflat = lambda x: [tf.reshape]\n",
    "\n",
    "with tf.Graph().as_default(), tf.Session() as sess:\n",
    "    logits = tf.constant(logits_)\n",
    "    targets = tf.constant(targets_)\n",
    "    weights = tf.constant(weights_)\n",
    "    \n",
    "    posterior = tf.nn.softmax(tf.reshape(logits, [nbatch * nunroll, nsyms]))\n",
    "    posterior = tf.reshape(posterior, [nbatch, nunroll, nsyms])\n",
    "\n",
    "    neg_log_probs = tf.nn.seq2seq.sequence_loss_by_example(\n",
    "        splitsqueeze(logits),\n",
    "        splitsqueeze(targets),\n",
    "        splitsqueeze(weights))\n",
    "    \n",
    "    neg_log_probs_flat = tf.nn.seq2seq.sequence_loss_by_example(\n",
    "        [tf.reshape(logits, [nbatch * nunroll, nsyms])],\n",
    "        [tf.reshape(targets, [-1])],\n",
    "        [tf.reshape(weights, [-1])])\n",
    "    \n",
    "    print posterior.eval()\n",
    "    neg_log_probs = neg_log_probs.eval()\n",
    "    neg_log_probs_flat = neg_log_probs_flat.eval()\n",
    "    print neg_log_probs\n",
    "    print neg_log_probs_flat"
   ]
  },
  {
   "cell_type": "code",
   "execution_count": 35,
   "metadata": {
    "collapsed": false
   },
   "outputs": [
    {
     "name": "stdout",
     "output_type": "stream",
     "text": [
      "1.34633231163\n"
     ]
    }
   ],
   "source": [
    "print np.sum(neg_log_probs) / neg_log_probs.shape[0]"
   ]
  }
 ],
 "metadata": {
  "kernelspec": {
   "display_name": "Python 2",
   "language": "python",
   "name": "python2"
  },
  "language_info": {
   "codemirror_mode": {
    "name": "ipython",
    "version": 2
   },
   "file_extension": ".py",
   "mimetype": "text/x-python",
   "name": "python",
   "nbconvert_exporter": "python",
   "pygments_lexer": "ipython2",
   "version": "2.7.12"
  }
 },
 "nbformat": 4,
 "nbformat_minor": 1
}
